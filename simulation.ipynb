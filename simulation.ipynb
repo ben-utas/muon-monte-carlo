{
 "cells": [
  {
   "cell_type": "code",
   "execution_count": 8,
   "metadata": {
    "collapsed": true
   },
   "outputs": [],
   "source": [
    "import numpy as np\n",
    "import matplotlib.pyplot as plt\n",
    "\n",
    "from scipy.stats import qmc\n",
    "\n",
    "c = 3e8 # Speed of Light\n",
    "\n",
    "class Muon:\n",
    "    def __init__(self, x, y, z, v, v_theta, v_phi):\n",
    "        self.v_theta = v_theta\n",
    "        self.v_phi = v_phi\n",
    "        self.z_list = [z]\n",
    "        self.v = v\n",
    "        self.x_list = [x]\n",
    "        self.y_list = [y]\n",
    "        self.lifetime = 3\n",
    "\n",
    "    def propagate(self, time_step):\n",
    "        time = 0\n",
    "        while time < self.lifetime:\n",
    "            self.x_list.append(self.v * time_step * np.sin(self.v_phi) * np.cos(self.v_theta))\n",
    "            self.y_list.append(self.v * time_step * np.sin(self.v_phi) * np.sin(self.v_theta))\n",
    "            self.z_list.append(self.v * time_step * np.cos(self.v_phi))\n",
    "            time += time_step\n",
    "\n",
    "# Defines 3D regions where scintillation occurs.\n",
    "class Scintillator:\n",
    "    def __init__(self, r, z):\n",
    "        self.r = r\n",
    "        self.z = z\n",
    "\n",
    "    def has_muon(self, muon):\n",
    "        for i in range(muon.z_list):\n",
    "            if self.z[0] <= muon.z_list[i] <= self.z[1] and np.sqrt(muon.x_list**2 + muon.y_list**2) <= self.r:\n",
    "                return True\n",
    "        return False\n",
    "\n",
    "experiment = [Scintillator(1, [10,9]), Scintillator(1, [8,0])]"
   ]
  },
  {
   "cell_type": "markdown",
   "source": [],
   "metadata": {
    "collapsed": false
   }
  },
  {
   "cell_type": "code",
   "execution_count": 17,
   "outputs": [],
   "source": [
    "# returns random velocities to be used to build a muon class\n",
    "def random_velocities(number):\n",
    "    sampler = qmc.LatinHypercube(d = 1)\n",
    "    sample = sampler.random(n = number)\n",
    "    velocities = qmc.scale(sample,  0.9990, 0.9995)\n",
    "    velocities *= c\n",
    "    return velocities\n",
    "\n",
    "def random_theta(number):\n",
    "    sampler = qmc.LatinHypercube(d = 1)\n",
    "    sample = sampler.random(n = number)\n",
    "    thetas = qmc.scale(sample,  0, 2*np.pi)\n",
    "    return thetas\n",
    "\n",
    "def random_phi(number):\n",
    "    sampler = qmc.LatinHypercube(d = 1)\n",
    "    sample = sampler.random(n = number)\n",
    "    phis = qmc.scale(sample,  0, np.pi)\n",
    "    return phis\n",
    "\n",
    "def random_r(number):\n",
    "    sampler = qmc.LatinHypercube(d = 1)\n",
    "    sample = sampler.random(n = number)\n",
    "    return sample\n",
    "\n",
    "def random_lifetime(number):\n",
    "    sample = np.random.exponential(2.2e-9, number)\n",
    "    # histogram demonstrates the expected distribution for a half-life count\n",
    "    # plt.hist(sample)\n",
    "    return sample\n",
    "\n",
    "def random_muons(samples):\n",
    "    rand_r = random_r(samples)\n",
    "    rand_theta = random_theta(samples)\n",
    "    rand_x = rand_r * np.sin(rand_theta)\n",
    "    rand_y = rand_r * np.cos(rand_theta)\n",
    "    rand_v = random_velocities(samples)\n",
    "    rand_v_theta = random_theta(samples)\n",
    "    rand_v_phi = random_phi(samples)\n",
    "    muon_list = []\n",
    "    for i in [0, samples-1]:\n",
    "        muon_list.append(Muon(rand_x[i], rand_y[i], 1, rand_v[i], rand_v_theta[i], rand_v_phi[i]))\n",
    "    return muon_list"
   ],
   "metadata": {
    "collapsed": false,
    "pycharm": {
     "name": "#%%\n"
    }
   }
  },
  {
   "cell_type": "code",
   "execution_count": 18,
   "outputs": [
    {
     "data": {
      "text/plain": "array([2.24929925e-10, 1.12074419e-09, 1.55653039e-09, 6.81750963e-10,\n       2.50935966e-09, 2.22938090e-09, 3.06368373e-09, 1.73631776e-10,\n       2.71339877e-10, 1.78800715e-09, 2.17445631e-10, 2.45088270e-10,\n       3.49969745e-09, 5.72923101e-10, 8.74121377e-10, 8.18830028e-09,\n       1.24863123e-10, 8.03336130e-10, 5.40018875e-09, 2.47289797e-09,\n       1.08573641e-09, 9.99380970e-09, 7.37797130e-09, 2.23276014e-10,\n       3.77310937e-10, 7.84912520e-10, 2.73792369e-09, 8.09897940e-10,\n       2.22608813e-09, 1.56538879e-09, 2.55586236e-09, 2.76237640e-09,\n       4.06846876e-09, 5.64538071e-09, 2.70840659e-09, 3.15927758e-09,\n       5.40179508e-09, 1.13245821e-09, 5.15062533e-09, 2.17106741e-09,\n       3.86770276e-09, 3.25016313e-09, 8.56620688e-10, 8.10726803e-10,\n       2.41210381e-09, 1.16292275e-09, 5.01796256e-09, 3.11206059e-10,\n       3.77798504e-10, 8.98315155e-10, 3.94473965e-09, 1.16554476e-09,\n       7.15016649e-10, 2.73731209e-09, 1.33083934e-08, 2.90747121e-10,\n       1.49131138e-10, 6.04129296e-10, 6.38118010e-10, 1.43801550e-09,\n       1.54195599e-09, 2.68762361e-09, 1.58955247e-09, 3.53202943e-09,\n       4.09071670e-10, 1.63528684e-09, 1.77176798e-09, 7.97143947e-10,\n       4.99733193e-09, 6.68469653e-10, 1.96379163e-09, 1.33828877e-09,\n       1.73480270e-09, 3.01869560e-09, 2.13335793e-09, 1.79710520e-09,\n       5.88568054e-09, 3.38060398e-10, 1.71463101e-09, 2.17534745e-10,\n       2.06423313e-09, 1.58381340e-09, 2.52178519e-09, 1.46863496e-09,\n       1.26722285e-09, 3.26868782e-09, 7.13706515e-10, 7.90138092e-10,\n       1.37236879e-09, 5.14098523e-10, 7.14864546e-10, 1.68857993e-09,\n       5.74154767e-10, 3.22223538e-09, 9.48713752e-10, 1.21646188e-09,\n       2.91803590e-10, 1.15172399e-09, 3.25219830e-10, 1.10254306e-09])"
     },
     "execution_count": 18,
     "metadata": {},
     "output_type": "execute_result"
    },
    {
     "data": {
      "text/plain": "<Figure size 432x288 with 1 Axes>",
      "image/png": "[encoded data removed]"
     },
     "metadata": {
      "needs_background": "light"
     },
     "output_type": "display_data"
    }
   ],
   "source": [
    "random_lifetime(100)"
   ],
   "metadata": {
    "collapsed": false,
    "pycharm": {
     "name": "#%%\n"
    }
   }
  }
 ],
 "metadata": {
  "kernelspec": {
   "display_name": "Python 3",
   "language": "python",
   "name": "python3"
  },
  "language_info": {
   "codemirror_mode": {
    "name": "ipython",
    "version": 2
   },
   "file_extension": ".py",
   "mimetype": "text/x-python",
   "name": "python",
   "nbconvert_exporter": "python",
   "pygments_lexer": "ipython2",
   "version": "2.7.6"
  }
 },
 "nbformat": 4,
 "nbformat_minor": 0
}
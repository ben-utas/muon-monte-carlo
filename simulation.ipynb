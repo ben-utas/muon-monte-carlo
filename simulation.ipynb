{
 "cells": [
  {
   "cell_type": "code",
   "execution_count": 12,
   "metadata": {
    "collapsed": true
   },
   "outputs": [],
   "source": [
    "import numpy as np\n",
    "import matplotlib.pyplot as plt\n",
    "\n",
    "from scipy.stats import qmc\n",
    "\n",
    "c = 3e8 # Speed of Light\n",
    "\n",
    "class Muon:\n",
    "    def __init__(self, x, y, z, v, v_theta, v_phi):\n",
    "        self.v_theta = v_theta\n",
    "        self.v_phi = v_phi\n",
    "        self.z_list = [z]\n",
    "        self.v = v\n",
    "        self.x_list = [x]\n",
    "        self.y_list = [y]\n",
    "        self.lifetime = 3\n",
    "\n",
    "    def propagate(self, time_step):\n",
    "        time = 0\n",
    "        while time < self.lifetime:\n",
    "            self.x_list.append(self.v * time_step * np.sin(self.phi) * np.cos(self.theta))\n",
    "            self.y_list.append(self.v * time_step * np.sin(self.phi) * np.sin(self.theta))\n",
    "            self.z_list.append(self.v * time_step * np.cos(self.phi))\n",
    "            time += time_step\n",
    "\n",
    "# Defines 3D regions where scintillation occurs.\n",
    "class Scintillator:\n",
    "    def __init__(self, r, z):\n",
    "        self.r = r\n",
    "        self.z = z\n",
    "\n",
    "    def has_muon(self, muon):\n",
    "        for i in range(muon.z_list):\n",
    "            if self.z[0] <= muon.z_list[i] <= self.z[1] and np.sqrt(muon.x_list**2 + muon.y_list**2) <= self.r:\n",
    "                return True\n",
    "        return False\n",
    "\n",
    "experiment = [Scintillator(1, [10,9]), Scintillator(1, [8,0])]"
   ]
  },
  {
   "cell_type": "markdown",
   "source": [],
   "metadata": {
    "collapsed": false
   }
  },
  {
   "cell_type": "code",
   "execution_count": 47,
   "outputs": [
    {
     "data": {
      "text/plain": "[<__main__.Muon at 0x2029d728670>, <__main__.Muon at 0x2029d7284c0>]"
     },
     "execution_count": 47,
     "metadata": {},
     "output_type": "execute_result"
    }
   ],
   "source": [
    "# returns random velocities to be used to build a muon class\n",
    "def random_velocities(N):\n",
    "    sampler = qmc.LatinHypercube(d = 1)\n",
    "    sample = sampler.random(n = N)\n",
    "    velocities = qmc.scale(sample,  0.9990, 0.9995)\n",
    "    velocities *= c\n",
    "    return velocities\n",
    "\n",
    "def random_theta(N):\n",
    "    sampler = qmc.LatinHypercube(d = 1)\n",
    "    sample = sampler.random(n = N)\n",
    "    thetas = qmc.scale(sample,  0, 2*np.pi)\n",
    "    return thetas\n",
    "\n",
    "def random_phi(N):\n",
    "    sampler = qmc.LatinHypercube(d = 1)\n",
    "    sample = sampler.random(n = N)\n",
    "    phis = qmc.scale(sample,  0, np.pi)\n",
    "    return phis\n",
    "\n",
    "def random_r(N):\n",
    "    sampler = qmc.LatinHypercube(d = 1)\n",
    "    sample = sampler.random(n = N)\n",
    "    return sample\n",
    "\n",
    "def random_muons(N):\n",
    "    rand_r = random_r(N)\n",
    "    rand_theta = random_theta(N)\n",
    "    rand_x = rand_r * np.sin(rand_theta)\n",
    "    rand_y = rand_r * np.cos(rand_theta)\n",
    "    rand_v = random_velocities(N)\n",
    "    rand_v_theta = random_theta(N)\n",
    "    rand_v_phi = random_phi(N)\n",
    "    muon_list = []\n",
    "    for i in [0, N-1]:\n",
    "        muon_list.append(Muon(rand_x[i], rand_y[i], 1, rand_v[i], rand_v_theta[i], rand_v_phi[i]))\n",
    "    return muon_list"
   ],
   "metadata": {
    "collapsed": false,
    "pycharm": {
     "name": "#%%\n"
    }
   }
  }
 ],
 "metadata": {
  "kernelspec": {
   "display_name": "Python 3",
   "language": "python",
   "name": "python3"
  },
  "language_info": {
   "codemirror_mode": {
    "name": "ipython",
    "version": 2
   },
   "file_extension": ".py",
   "mimetype": "text/x-python",
   "name": "python",
   "nbconvert_exporter": "python",
   "pygments_lexer": "ipython2",
   "version": "2.7.6"
  }
 },
 "nbformat": 4,
 "nbformat_minor": 0
}
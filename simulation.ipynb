{
 "cells": [
  {
   "cell_type": "code",
   "execution_count": 4,
   "metadata": {
    "collapsed": true
   },
   "outputs": [],
   "source": [
    "import numpy as np\n",
    "\n",
    "class Muon:\n",
    "    def __init__(self, theta, phi, z, v):\n",
    "        self.theta = theta\n",
    "        self.phi = phi\n",
    "        self.z_list = [z]\n",
    "        self.v = v\n",
    "        self.x_list = [10]\n",
    "        self.y_list = [10]\n",
    "        self.lifetime = 3\n",
    "\n",
    "    def propagate(self, time_step):\n",
    "        time = 0\n",
    "        self.x_list.append(self.v * time_step * np.sin(self.phi) * np.cos(self.theta))\n",
    "        self.y_list.append(self.v * time_step * np.sin(self.phi) * np.sin(self.theta))\n",
    "        self.z_list.append(self.v * time_step * np.cos(self.phi))\n",
    "\n",
    "# Defines 3D regions where scintillation occurs.\n",
    "class Scintillator:\n",
    "    def __init__(self, r, z):\n",
    "        self.r = r\n",
    "        self.z = z\n",
    "\n",
    "    def has_muon(self, muon):\n",
    "        #TODO: make work with traced path for a muon.\n",
    "        return self.z[0] <= muon.z <= self.z[1] and np.sqrt(muon.x**2 + muon.y**2) < self.r\n",
    "\n",
    "experiment = [Scintillator(1, [10,9]), Scintillator(1, [8,0])]\n",
    "\n",
    "def simulate_path(muon, scintillators, time_step):\n",
    "    time = 0\n",
    "    hits = []\n",
    "    #TODO: Figure this out.\n",
    "    while time < muon.lifetime:\n",
    "        muon.propagate(time_step)\n",
    "        for scintillator in scintillators:\n",
    "            if scintillator.has_muon(muon):\n",
    "                hits =\n"
   ]
  },
  {
   "cell_type": "code",
   "execution_count": 1,
   "outputs": [
    {
     "ename": "SyntaxError",
     "evalue": "invalid syntax (Temp/ipykernel_7208/2442406903.py, line 9)",
     "output_type": "error",
     "traceback": [
      "\u001B[1;36m  File \u001B[1;32m\"C:\\Users\\bmild\\AppData\\Local\\Temp/ipykernel_7208/2442406903.py\"\u001B[1;36m, line \u001B[1;32m9\u001B[0m\n\u001B[1;33m    def incoming_muon(theta, phi) {\u001B[0m\n\u001B[1;37m                                  ^\u001B[0m\n\u001B[1;31mSyntaxError\u001B[0m\u001B[1;31m:\u001B[0m invalid syntax\n"
     ]
    }
   ],
   "source": [
    "def monte_carlo(N):\n",
    "    return"
   ],
   "metadata": {
    "collapsed": false,
    "pycharm": {
     "name": "#%%\n"
    }
   }
  }
 ],
 "metadata": {
  "kernelspec": {
   "display_name": "Python 3",
   "language": "python",
   "name": "python3"
  },
  "language_info": {
   "codemirror_mode": {
    "name": "ipython",
    "version": 2
   },
   "file_extension": ".py",
   "mimetype": "text/x-python",
   "name": "python",
   "nbconvert_exporter": "python",
   "pygments_lexer": "ipython2",
   "version": "2.7.6"
  }
 },
 "nbformat": 4,
 "nbformat_minor": 0
}
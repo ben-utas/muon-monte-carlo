{
 "cells": [
  {
   "cell_type": "code",
   "execution_count": null,
   "metadata": {
    "collapsed": true,
    "pycharm": {
     "is_executing": true
    }
   },
   "outputs": [],
   "source": [
    "import numpy as np\n",
    "import matplotlib.pyplot as plt\n",
    "# from mpl_toolkits.mplot3d import *\n",
    "\n",
    "from scipy.stats import qmc\n",
    "\n",
    "c = 3e8 # Speed of Light\n",
    "\n",
    "class Muon:\n",
    "    def __init__(self, x, y, z, v, v_theta, v_phi, lifetime):\n",
    "        self.v_theta = v_theta\n",
    "        self.v_phi = v_phi\n",
    "        self.z_list = [z]\n",
    "        self.v = v\n",
    "        self.x_list = [x]\n",
    "        self.y_list = [y]\n",
    "        self.lifetime = lifetime\n",
    "\n",
    "    def propagate(self, time_step):\n",
    "        time = 0\n",
    "        while time < self.lifetime:\n",
    "            self.x_list.append(self.x_list[-1] + self.v * time * np.sin(self.v_phi) * np.cos(self.v_theta))\n",
    "            self.y_list.append(self.y_list[-1] + self.v * time * np.sin(self.v_phi) * np.sin(self.v_theta))\n",
    "            self.z_list.append(self.z_list[-1] - self.v * time * np.cos(self.v_phi))\n",
    "            time += time_step\n",
    "\n",
    "    def draw_path(self):\n",
    "        return self.x_list, self.y_list, self.z_list\n",
    "\n",
    "# Defines 3D regions where scintillation occurs.\n",
    "class Scintillator:\n",
    "    def __init__(self, radius, floor, ceiling):\n",
    "        self.r = radius\n",
    "        # Position in the z-axis of the bottom and top of the scintillator.\n",
    "        self.floor = floor\n",
    "        self.ceiling = ceiling\n",
    "\n",
    "    def has_muon(self, muon):\n",
    "        for i in range(muon.z_list):\n",
    "            if self.floor <= muon.z_list[i] <= self.ceiling and np.sqrt(muon.x_list**2 + muon.y_list**2) <= self.r:\n",
    "                return True\n",
    "        return False\n",
    "\n",
    "    def draw_scintillator(self):\n",
    "        z = np.linspace(self.floor,self.ceiling, 50)\n",
    "        theta = np.linspace(0, 2 * np.pi, 50)\n",
    "        z_grid, theta_grid = np.meshgrid(z, theta)\n",
    "        x_grid = self.r * np.cos(theta_grid)\n",
    "        y_grid = self.r * np.sin(theta_grid)\n",
    "        return x_grid, y_grid, z_grid\n",
    "\n",
    "\n",
    "experiment = Scintillator(0.2, 0, 0.6)"
   ]
  },
  {
   "cell_type": "markdown",
   "source": [],
   "metadata": {
    "collapsed": false
   }
  },
  {
   "cell_type": "code",
   "execution_count": null,
   "outputs": [],
   "source": [
    "# returns random velocities to be used to build a muon class\n",
    "def random_velocities(number):\n",
    "    sampler = qmc.LatinHypercube(d = 1)\n",
    "    sample = sampler.random(n = number)\n",
    "    velocities = qmc.scale(sample,  0.9990, 0.9995)\n",
    "    velocities *= c\n",
    "    return velocities\n",
    "\n",
    "def random_theta(number):\n",
    "    sampler = qmc.LatinHypercube(d = 1)\n",
    "    sample = sampler.random(n = number)\n",
    "    thetas = qmc.scale(sample,  0, 2 * np.pi)\n",
    "    return thetas\n",
    "\n",
    "def random_phi(number):\n",
    "    sampler = qmc.LatinHypercube(d = 1)\n",
    "    sample = sampler.random(n = number)\n",
    "    phis = qmc.scale(sample,  0, np.pi)\n",
    "    return phis\n",
    "\n",
    "def random_r(number):\n",
    "    sampler = qmc.LatinHypercube(d = 1)\n",
    "    sample = sampler.random(n = number) * 0.2\n",
    "    return sample\n",
    "\n",
    "def random_lifetime(number):\n",
    "    sample = np.random.exponential(2.2e-6, number)\n",
    "    # histogram demonstrates the expected distribution for a half-life count\n",
    "    # plt.hist(sample)\n",
    "    return sample\n",
    "\n",
    "def random_muons(samples):\n",
    "    rand_r = random_r(samples)\n",
    "    rand_theta = random_theta(samples)\n",
    "    rand_x = rand_r * np.sin(rand_theta)\n",
    "    rand_y = rand_r * np.cos(rand_theta)\n",
    "    rand_v = random_velocities(samples)\n",
    "    rand_v_theta = random_theta(samples)\n",
    "    rand_v_phi = random_phi(samples)\n",
    "    rand_lifetime = random_lifetime(samples)\n",
    "    muon_list = []\n",
    "    for i in range(samples):\n",
    "        muon_list.append(Muon(rand_x[i], rand_y[i], 0.6, rand_v[i], rand_v_theta[i], rand_v_phi[i], rand_lifetime[i]))\n",
    "    return muon_list"
   ],
   "metadata": {
    "collapsed": false,
    "pycharm": {
     "name": "#%%\n",
     "is_executing": true
    }
   }
  },
  {
   "cell_type": "code",
   "execution_count": null,
   "outputs": [],
   "source": [
    "muons = random_muons(1)\n",
    "for muon in muons:\n",
    "    muon.propagate(1e-9)\n",
    "\n",
    "fig = plt.figure()\n",
    "ax = fig.add_subplot(111, projection = '3d')\n",
    "x, y, z = experiment.draw_scintillator()\n",
    "ax.plot_surface(x, y, z, alpha = 0.3)\n",
    "for muon in muons:\n",
    "    line_x, line_y, line_z = muon.draw_path()\n",
    "    x = [float(i) for i in line_x]\n",
    "    y = [float(i) for i in line_y]\n",
    "    z = [float(i) for i in line_z]\n",
    "    ax.scatter(x, y, z)\n"
   ],
   "metadata": {
    "collapsed": false,
    "pycharm": {
     "name": "#%%\n",
     "is_executing": true
    }
   }
  }
 ],
 "metadata": {
  "kernelspec": {
   "display_name": "Python 3",
   "language": "python",
   "name": "python3"
  },
  "language_info": {
   "codemirror_mode": {
    "name": "ipython",
    "version": 2
   },
   "file_extension": ".py",
   "mimetype": "text/x-python",
   "name": "python",
   "nbconvert_exporter": "python",
   "pygments_lexer": "ipython2",
   "version": "2.7.6"
  }
 },
 "nbformat": 4,
 "nbformat_minor": 0
}